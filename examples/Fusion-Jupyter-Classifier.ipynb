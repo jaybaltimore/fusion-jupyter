{
 "cells": [
  {
   "cell_type": "markdown",
   "metadata": {},
   "source": [
    "## Fusion Jupyter demo with sklearn"
   ]
  },
  {
   "cell_type": "markdown",
   "metadata": {},
   "source": [
    "### Spark Context is available as Spark"
   ]
  },
  {
   "cell_type": "markdown",
   "metadata": {},
   "source": [
    "1. Load data from signals\n",
    "2. Print the columns\n",
    "3. Do some basic statitics\n",
    "4. Display a basic graph\n",
    "6. Load the training collection for query intent classification job\n",
    "7. Train a RandomForest Classifier with CV/ Model Stability Graph/ Plot Confusion matrix etc"
   ]
  },
  {
   "cell_type": "markdown",
   "metadata": {},
   "source": [
    "##### Standard imports for python, spark, sklearn"
   ]
  },
  {
   "cell_type": "code",
   "execution_count": 1,
   "metadata": {},
   "outputs": [],
   "source": [
    "import numpy as np\n",
    "import pandas as pd\n",
    "import matplotlib\n",
    "import matplotlib.pyplot as plt\n",
    "%matplotlib inline\n",
    "\n",
    "from pyspark.sql.functions import *\n",
    "from pyspark.sql.types import StringType\n",
    "\n",
    "\n",
    "from sklearn.model_selection import train_test_split\n",
    "from sklearn.feature_extraction.text import TfidfVectorizer\n",
    "from sklearn.ensemble import RandomForestClassifier\n",
    "from sklearn.metrics import confusion_matrix\n",
    "import itertools"
   ]
  },
  {
   "cell_type": "code",
   "execution_count": 2,
   "metadata": {},
   "outputs": [],
   "source": [
    "import matplotlib.pylab as pylab\n",
    "params = {'legend.fontsize': 'x-large',\n",
    "          'figure.figsize': (15, 5),\n",
    "         'axes.labelsize': 'x-large',\n",
    "         'axes.titlesize':'x-large',\n",
    "         'xtick.labelsize':'x-large',\n",
    "         'ytick.labelsize':'x-large'}\n",
    "pylab.rcParams.update(params)"
   ]
  },
  {
   "cell_type": "markdown",
   "metadata": {},
   "source": [
    "##### Read data from Fusion as a SparkDF"
   ]
  },
  {
   "cell_type": "code",
   "execution_count": 3,
   "metadata": {},
   "outputs": [],
   "source": [
    "df_training = spark.read.load(format='solr',\n",
    "                         collection=\"ecommerce_training\",\n",
    "                         zkhost=\"localhost:9983/lwfusion/4.2.0-SNAPSHOT/solr\",\n",
    "                         flatten_multivalued='false',\n",
    "                         request_handler='/select',\n",
    "                         query=\"query:*\\:*\"\n",
    "                         )"
   ]
  },
  {
   "cell_type": "code",
   "execution_count": 4,
   "metadata": {},
   "outputs": [
    {
     "name": "stdout",
     "output_type": "stream",
     "text": [
      "root\n",
      " |-- aggr_id_s: string (nullable = true)\n",
      " |-- aggr_job_id_s: string (nullable = true)\n",
      " |-- aggr_type_s: string (nullable = true)\n",
      " |-- category: string (nullable = true)\n",
      " |-- department: string (nullable = true)\n",
      " |-- flag_s: string (nullable = true)\n",
      " |-- id: string (nullable = false)\n",
      " |-- query: string (nullable = true)\n",
      " |-- query_t: array (nullable = true)\n",
      " |    |-- element: string (containsNull = true)\n",
      " |-- timestamp_tdt: timestamp (nullable = true)\n",
      "\n"
     ]
    }
   ],
   "source": [
    "df_training.printSchema()"
   ]
  },
  {
   "cell_type": "code",
   "execution_count": 5,
   "metadata": {
    "scrolled": false
   },
   "outputs": [],
   "source": [
    "df_training = df_training.select(\"department\",\"query\",\"id\")"
   ]
  },
  {
   "cell_type": "code",
   "execution_count": 6,
   "metadata": {},
   "outputs": [
    {
     "name": "stdout",
     "output_type": "stream",
     "text": [
      "+--------------------+--------------------+--------------------+\n",
      "|          department|               query|                  id|\n",
      "+--------------------+--------------------+--------------------+\n",
      "|  VIDEO/COMPACT DISC|  x-men: first class|0012646e-fd4e-48f...|\n",
      "|  VIDEO/COMPACT DISC|angel: season 6an...|003bbf8b-812c-45f...|\n",
      "|           COMPUTERS|        sku: 3438674|003daa7e-6efe-43e...|\n",
      "|  VIDEO/COMPACT DISC|iion king 2: simb...|0067cb24-836d-489...|\n",
      "|INTERACTIVE SOFTWARE| batman: arkham city|006f6c20-16ed-4a4...|\n",
      "|DIGITAL COMMUNICATIO|       sansung:)t359|00a3902c-2b95-416...|\n",
      "|INTERACTIVE SOFTWARE|call of duty: mod...|00bac967-f2c9-48d...|\n",
      "|INTERACTIVE SOFTWARE| batman: arkham city|00cd9e95-310b-4dc...|\n",
      "|  VIDEO/COMPACT DISC|          csi: miami|010948da-c110-49c...|\n",
      "|           COMPUTERS|        sku: 2762943|01a26043-fc2c-46b...|\n",
      "+--------------------+--------------------+--------------------+\n",
      "only showing top 10 rows\n",
      "\n"
     ]
    }
   ],
   "source": [
    "df_training.show(10)"
   ]
  },
  {
   "cell_type": "code",
   "execution_count": 7,
   "metadata": {},
   "outputs": [
    {
     "name": "stdout",
     "output_type": "stream",
     "text": [
      "+--------------------+\n",
      "|          department|\n",
      "+--------------------+\n",
      "|         ACCESSORIES|\n",
      "|           APPLIANCE|\n",
      "|                null|\n",
      "|           COMPUTERS|\n",
      "|MAGNOLIA HOME THEATR|\n",
      "|   PHOTO/COMMODITIES|\n",
      "|DIGITAL COMMUNICATIO|\n",
      "|   COMPUTER SOFTWARE|\n",
      "|  VIDEO/COMPACT DISC|\n",
      "|                 DTS|\n",
      "|               AUDIO|\n",
      "|INTERACTIVE SOFTWARE|\n",
      "|               VIDEO|\n",
      "|        MOBILE AUDIO|\n",
      "+--------------------+\n",
      "\n"
     ]
    }
   ],
   "source": [
    "df_training.select(\"department\").distinct().show()"
   ]
  },
  {
   "cell_type": "code",
   "execution_count": 8,
   "metadata": {},
   "outputs": [],
   "source": [
    "stats_pd_df = df_training.groupBy(\"department\").count().orderBy(desc(\"count\")).toPandas()"
   ]
  },
  {
   "cell_type": "code",
   "execution_count": 9,
   "metadata": {},
   "outputs": [
    {
     "data": {
      "text/html": [
       "<div>\n",
       "<style scoped>\n",
       "    .dataframe tbody tr th:only-of-type {\n",
       "        vertical-align: middle;\n",
       "    }\n",
       "\n",
       "    .dataframe tbody tr th {\n",
       "        vertical-align: top;\n",
       "    }\n",
       "\n",
       "    .dataframe thead th {\n",
       "        text-align: right;\n",
       "    }\n",
       "</style>\n",
       "<table border=\"1\" class=\"dataframe\">\n",
       "  <thead>\n",
       "    <tr style=\"text-align: right;\">\n",
       "      <th></th>\n",
       "      <th>department</th>\n",
       "      <th>count</th>\n",
       "    </tr>\n",
       "  </thead>\n",
       "  <tbody>\n",
       "    <tr>\n",
       "      <th>0</th>\n",
       "      <td>VIDEO/COMPACT DISC</td>\n",
       "      <td>1646</td>\n",
       "    </tr>\n",
       "    <tr>\n",
       "      <th>1</th>\n",
       "      <td>INTERACTIVE SOFTWARE</td>\n",
       "      <td>642</td>\n",
       "    </tr>\n",
       "    <tr>\n",
       "      <th>2</th>\n",
       "      <td>COMPUTERS</td>\n",
       "      <td>276</td>\n",
       "    </tr>\n",
       "    <tr>\n",
       "      <th>3</th>\n",
       "      <td>VIDEO</td>\n",
       "      <td>82</td>\n",
       "    </tr>\n",
       "    <tr>\n",
       "      <th>4</th>\n",
       "      <td>PHOTO/COMMODITIES</td>\n",
       "      <td>58</td>\n",
       "    </tr>\n",
       "    <tr>\n",
       "      <th>5</th>\n",
       "      <td>AUDIO</td>\n",
       "      <td>40</td>\n",
       "    </tr>\n",
       "    <tr>\n",
       "      <th>6</th>\n",
       "      <td>APPLIANCE</td>\n",
       "      <td>36</td>\n",
       "    </tr>\n",
       "    <tr>\n",
       "      <th>7</th>\n",
       "      <td>DIGITAL COMMUNICATIO</td>\n",
       "      <td>26</td>\n",
       "    </tr>\n",
       "    <tr>\n",
       "      <th>8</th>\n",
       "      <td>MOBILE AUDIO</td>\n",
       "      <td>20</td>\n",
       "    </tr>\n",
       "    <tr>\n",
       "      <th>9</th>\n",
       "      <td>ACCESSORIES</td>\n",
       "      <td>16</td>\n",
       "    </tr>\n",
       "    <tr>\n",
       "      <th>10</th>\n",
       "      <td>COMPUTER SOFTWARE</td>\n",
       "      <td>16</td>\n",
       "    </tr>\n",
       "    <tr>\n",
       "      <th>11</th>\n",
       "      <td>MAGNOLIA HOME THEATR</td>\n",
       "      <td>4</td>\n",
       "    </tr>\n",
       "    <tr>\n",
       "      <th>12</th>\n",
       "      <td>DTS</td>\n",
       "      <td>4</td>\n",
       "    </tr>\n",
       "    <tr>\n",
       "      <th>13</th>\n",
       "      <td>None</td>\n",
       "      <td>1</td>\n",
       "    </tr>\n",
       "  </tbody>\n",
       "</table>\n",
       "</div>"
      ],
      "text/plain": [
       "              department  count\n",
       "0     VIDEO/COMPACT DISC   1646\n",
       "1   INTERACTIVE SOFTWARE    642\n",
       "2              COMPUTERS    276\n",
       "3                  VIDEO     82\n",
       "4      PHOTO/COMMODITIES     58\n",
       "5                  AUDIO     40\n",
       "6              APPLIANCE     36\n",
       "7   DIGITAL COMMUNICATIO     26\n",
       "8           MOBILE AUDIO     20\n",
       "9            ACCESSORIES     16\n",
       "10     COMPUTER SOFTWARE     16\n",
       "11  MAGNOLIA HOME THEATR      4\n",
       "12                   DTS      4\n",
       "13                  None      1"
      ]
     },
     "execution_count": 9,
     "metadata": {},
     "output_type": "execute_result"
    }
   ],
   "source": [
    "stats_pd_df"
   ]
  },
  {
   "cell_type": "code",
   "execution_count": 10,
   "metadata": {},
   "outputs": [
    {
     "data": {
      "text/plain": [
       "[]"
      ]
     },
     "execution_count": 10,
     "metadata": {},
     "output_type": "execute_result"
    },
    {
     "data": {
      "image/png": "[encoded data removed]",
      "text/plain": [
       "<Figure size 1080x504 with 1 Axes>"
      ]
     },
     "metadata": {
      "needs_background": "light"
     },
     "output_type": "display_data"
    }
   ],
   "source": [
    "ax= stats_pd_df.plot(x=\"department\",y=\"count\",legend=None,figsize=(15,7),fontsize=12,kind=\"bar\")\n",
    "ax.set(xlabel=\"Department\", ylabel=\"Count\", title=\"Department Popularity\")\n",
    "ax.set(title=\"Department Popularity\")\n",
    "ax.set_xticklabels(stats_pd_df[\"department\"],rotation=60)\n",
    "ax.plot()"
   ]
  },
  {
   "cell_type": "code",
   "execution_count": 11,
   "metadata": {},
   "outputs": [
    {
     "name": "stdout",
     "output_type": "stream",
     "text": [
      "+--------------------+-----+\n",
      "|          department|count|\n",
      "+--------------------+-----+\n",
      "|  VIDEO/COMPACT DISC| 1646|\n",
      "|INTERACTIVE SOFTWARE|  642|\n",
      "|           COMPUTERS|  276|\n",
      "|               VIDEO|   82|\n",
      "|   PHOTO/COMMODITIES|   58|\n",
      "|               AUDIO|   40|\n",
      "|           APPLIANCE|   36|\n",
      "|DIGITAL COMMUNICATIO|   26|\n",
      "|        MOBILE AUDIO|   20|\n",
      "|   COMPUTER SOFTWARE|   16|\n",
      "|         ACCESSORIES|   16|\n",
      "|MAGNOLIA HOME THEATR|    4|\n",
      "|                 DTS|    4|\n",
      "+--------------------+-----+\n",
      "\n"
     ]
    }
   ],
   "source": [
    "df_training = df_training.dropna(subset=[\"department\",\"query\"])\n",
    "department_count_df = df_training.groupBy(\"department\").count().orderBy(desc(\"count\"))\n",
    "department_count_df.show()"
   ]
  },
  {
   "cell_type": "code",
   "execution_count": 12,
   "metadata": {},
   "outputs": [
    {
     "name": "stdout",
     "output_type": "stream",
     "text": [
      "2866\n",
      "2866\n"
     ]
    }
   ],
   "source": [
    "print(df_training.count())\n",
    "df_training = df_training.join(department_count_df, on=\"department\")\n",
    "print(df_training.count())"
   ]
  },
  {
   "cell_type": "code",
   "execution_count": 13,
   "metadata": {},
   "outputs": [
    {
     "name": "stdout",
     "output_type": "stream",
     "text": [
      "+-----------+--------------------+--------------------+-----+\n",
      "| department|               query|                  id|count|\n",
      "+-----------+--------------------+--------------------+-----+\n",
      "|ACCESSORIES|toshiba- satellit...|22f773e5-e3ae-4a1...|   16|\n",
      "|ACCESSORIES|toshiba- satellit...|301b4d11-3584-4e2...|   16|\n",
      "|ACCESSORIES|tilting mount sku...|367f090c-1cbe-474...|   16|\n",
      "|ACCESSORIES|samsung 5.1 surro...|39d67d57-2871-4db...|   16|\n",
      "|ACCESSORIES|mini-dvi to video...|408ea96d-74bd-420...|   16|\n",
      "|ACCESSORIES|yht-495bl | sku: ...|49db9a60-1860-479...|   16|\n",
      "|ACCESSORIES|mini-dvi to video...|6b58e3ee-61ac-4ce...|   16|\n",
      "|ACCESSORIES|mini-dvi to video...|fa8b4fe2-6591-4f7...|   16|\n",
      "|ACCESSORIES|mini-dvi to video...|1392ede7-73c3-4f2...|   16|\n",
      "|ACCESSORIES|model number:vpce...|18907328-8be9-4b9...|   16|\n",
      "+-----------+--------------------+--------------------+-----+\n",
      "only showing top 10 rows\n",
      "\n"
     ]
    }
   ],
   "source": [
    "df_training.show(10)"
   ]
  },
  {
   "cell_type": "markdown",
   "metadata": {},
   "source": [
    "##### Merge categories having less than 200 samples"
   ]
  },
  {
   "cell_type": "code",
   "execution_count": 14,
   "metadata": {},
   "outputs": [],
   "source": [
    "def merge_categories(department, count):\n",
    "    if count < 200:\n",
    "        return \"OTHER\"\n",
    "    return department\n",
    "\n",
    "merge_categories_udf = udf(lambda x,y: merge_categories(x,y), StringType())"
   ]
  },
  {
   "cell_type": "code",
   "execution_count": 15,
   "metadata": {},
   "outputs": [
    {
     "name": "stdout",
     "output_type": "stream",
     "text": [
      "root\n",
      " |-- department: string (nullable = true)\n",
      " |-- query: string (nullable = true)\n",
      " |-- id: string (nullable = false)\n",
      " |-- count: long (nullable = false)\n",
      "\n"
     ]
    }
   ],
   "source": [
    "df_training.printSchema()"
   ]
  },
  {
   "cell_type": "code",
   "execution_count": 16,
   "metadata": {},
   "outputs": [
    {
     "name": "stdout",
     "output_type": "stream",
     "text": [
      "+--------------------+-----+\n",
      "|          department|count|\n",
      "+--------------------+-----+\n",
      "|  VIDEO/COMPACT DISC| 1646|\n",
      "|INTERACTIVE SOFTWARE|  642|\n",
      "|               OTHER|  302|\n",
      "|           COMPUTERS|  276|\n",
      "+--------------------+-----+\n",
      "\n",
      "+--------------------+----------+\n",
      "|               query|department|\n",
      "+--------------------+----------+\n",
      "|toshiba- satellit...|     OTHER|\n",
      "|toshiba- satellit...|     OTHER|\n",
      "|tilting mount sku...|     OTHER|\n",
      "|samsung 5.1 surro...|     OTHER|\n",
      "|mini-dvi to video...|     OTHER|\n",
      "|yht-495bl | sku: ...|     OTHER|\n",
      "|mini-dvi to video...|     OTHER|\n",
      "|mini-dvi to video...|     OTHER|\n",
      "|mini-dvi to video...|     OTHER|\n",
      "|model number:vpce...|     OTHER|\n",
      "+--------------------+----------+\n",
      "only showing top 10 rows\n",
      "\n"
     ]
    }
   ],
   "source": [
    "df_training = df_training.withColumn(\"department\", merge_categories_udf(\"department\",\"count\")).select(\"query\",\"department\")\n",
    "df_training.groupBy(\"department\").count().orderBy(desc(\"count\")).show()\n",
    "df_training.show(10)"
   ]
  },
  {
   "cell_type": "markdown",
   "metadata": {},
   "source": [
    "##### Convert to pandas dataframe and train a classifier"
   ]
  },
  {
   "cell_type": "code",
   "execution_count": 17,
   "metadata": {},
   "outputs": [
    {
     "data": {
      "text/html": [
       "<div>\n",
       "<style scoped>\n",
       "    .dataframe tbody tr th:only-of-type {\n",
       "        vertical-align: middle;\n",
       "    }\n",
       "\n",
       "    .dataframe tbody tr th {\n",
       "        vertical-align: top;\n",
       "    }\n",
       "\n",
       "    .dataframe thead th {\n",
       "        text-align: right;\n",
       "    }\n",
       "</style>\n",
       "<table border=\"1\" class=\"dataframe\">\n",
       "  <thead>\n",
       "    <tr style=\"text-align: right;\">\n",
       "      <th></th>\n",
       "      <th>query</th>\n",
       "      <th>department</th>\n",
       "    </tr>\n",
       "  </thead>\n",
       "  <tbody>\n",
       "    <tr>\n",
       "      <th>409</th>\n",
       "      <td>call of duty: world at war- wii</td>\n",
       "      <td>OTHER</td>\n",
       "    </tr>\n",
       "    <tr>\n",
       "      <th>2860</th>\n",
       "      <td>transformers: dark of the moon</td>\n",
       "      <td>OTHER</td>\n",
       "    </tr>\n",
       "    <tr>\n",
       "      <th>2482</th>\n",
       "      <td>batman: arkham city</td>\n",
       "      <td>INTERACTIVE SOFTWARE</td>\n",
       "    </tr>\n",
       "    <tr>\n",
       "      <th>1124</th>\n",
       "      <td>transformers: dark of the moon</td>\n",
       "      <td>VIDEO/COMPACT DISC</td>\n",
       "    </tr>\n",
       "    <tr>\n",
       "      <th>2263</th>\n",
       "      <td>batman arkham city: collectors addition</td>\n",
       "      <td>INTERACTIVE SOFTWARE</td>\n",
       "    </tr>\n",
       "  </tbody>\n",
       "</table>\n",
       "</div>"
      ],
      "text/plain": [
       "                                        query            department\n",
       "409           call of duty: world at war- wii                 OTHER\n",
       "2860           transformers: dark of the moon                 OTHER\n",
       "2482                      batman: arkham city  INTERACTIVE SOFTWARE\n",
       "1124           transformers: dark of the moon    VIDEO/COMPACT DISC\n",
       "2263  batman arkham city: collectors addition  INTERACTIVE SOFTWARE"
      ]
     },
     "execution_count": 17,
     "metadata": {},
     "output_type": "execute_result"
    }
   ],
   "source": [
    "pandas_df = df_training.select(\"query\",\"department\").toPandas()\n",
    "pandas_df.sample(frac=0.01).head()"
   ]
  },
  {
   "cell_type": "markdown",
   "metadata": {},
   "source": [
    "##### Vectorize the query field"
   ]
  },
  {
   "cell_type": "code",
   "execution_count": 18,
   "metadata": {},
   "outputs": [
    {
     "name": "stdout",
     "output_type": "stream",
     "text": [
      "(2866, 1496) (2866,)\n"
     ]
    }
   ],
   "source": [
    "vectorizer = TfidfVectorizer(max_features=3000)\n",
    "X = vectorizer.fit_transform(pandas_df[\"query\"])\n",
    "y = pandas_df['department']\n",
    "print(X.shape, y.shape)"
   ]
  },
  {
   "cell_type": "markdown",
   "metadata": {},
   "source": [
    "##### You can do undersampling/oversampling StratifiedKfold etcs.\n",
    "##### For simplicity we will just split 10% data for validation"
   ]
  },
  {
   "cell_type": "code",
   "execution_count": 19,
   "metadata": {},
   "outputs": [
    {
     "data": {
      "text/plain": [
       "((2866, 1496), (2866,))"
      ]
     },
     "execution_count": 19,
     "metadata": {},
     "output_type": "execute_result"
    }
   ],
   "source": [
    "X.shape, y.shape"
   ]
  },
  {
   "cell_type": "code",
   "execution_count": 20,
   "metadata": {},
   "outputs": [
    {
     "data": {
      "text/plain": [
       "((2292,), (574,))"
      ]
     },
     "execution_count": 20,
     "metadata": {},
     "output_type": "execute_result"
    }
   ],
   "source": [
    "X_train, X_test, y_train, y_test = train_test_split( X, y, test_size=0.20, random_state=42, stratify=y)\n",
    "y_train.shape, y_test.shape"
   ]
  },
  {
   "cell_type": "markdown",
   "metadata": {},
   "source": [
    "##### Train a RandomForestClassifier"
   ]
  },
  {
   "cell_type": "code",
   "execution_count": 21,
   "metadata": {},
   "outputs": [],
   "source": [
    "rf = RandomForestClassifier(n_estimators=50, n_jobs=-1)"
   ]
  },
  {
   "cell_type": "code",
   "execution_count": 22,
   "metadata": {},
   "outputs": [
    {
     "data": {
      "text/plain": [
       "RandomForestClassifier(bootstrap=True, class_weight=None, criterion='gini',\n",
       "            max_depth=None, max_features='auto', max_leaf_nodes=None,\n",
       "            min_impurity_decrease=0.0, min_impurity_split=None,\n",
       "            min_samples_leaf=1, min_samples_split=2,\n",
       "            min_weight_fraction_leaf=0.0, n_estimators=50, n_jobs=-1,\n",
       "            oob_score=False, random_state=None, verbose=0,\n",
       "            warm_start=False)"
      ]
     },
     "execution_count": 22,
     "metadata": {},
     "output_type": "execute_result"
    }
   ],
   "source": [
    "rf.fit(X_train,y_train)"
   ]
  },
  {
   "cell_type": "markdown",
   "metadata": {},
   "source": [
    "##### Make predictions and evaluate"
   ]
  },
  {
   "cell_type": "code",
   "execution_count": 23,
   "metadata": {},
   "outputs": [],
   "source": [
    "test_preds = rf.predict(X_test)"
   ]
  },
  {
   "cell_type": "code",
   "execution_count": 24,
   "metadata": {},
   "outputs": [],
   "source": [
    "def plot_confusion_matrix(cm, classes,\n",
    "                          normalize=False,\n",
    "                          title='Confusion matrix',\n",
    "                          cmap=plt.cm.Blues):\n",
    "    \"\"\"\n",
    "    This function prints and plots the confusion matrix.\n",
    "    Normalization can be applied by setting `normalize=True`.\n",
    "    \"\"\"\n",
    "    if normalize:\n",
    "        cm = cm.astype('float') / cm.sum(axis=1)[:, np.newaxis]\n",
    "        print(\"Normalized confusion matrix\")\n",
    "    else:\n",
    "        print('Confusion matrix, without normalization')\n",
    "\n",
    "    print(cm)\n",
    "\n",
    "    plt.imshow(cm, interpolation='nearest', cmap=cmap)\n",
    "    plt.title(title)\n",
    "    plt.colorbar()\n",
    "    tick_marks = np.arange(len(classes))\n",
    "    plt.xticks(tick_marks, classes, rotation=45)\n",
    "    plt.yticks(tick_marks, classes)\n",
    "\n",
    "    fmt = '.2f' if normalize else 'd'\n",
    "    thresh = cm.max() / 2.\n",
    "    for i, j in itertools.product(range(cm.shape[0]), range(cm.shape[1])):\n",
    "        plt.text(j, i, format(cm[i, j], fmt),\n",
    "                 horizontalalignment=\"center\",\n",
    "                 color=\"white\" if cm[i, j] > thresh else \"black\")\n",
    "\n",
    "    plt.ylabel('True label')\n",
    "    plt.xlabel('Predicted label')\n",
    "    plt.tight_layout()"
   ]
  },
  {
   "cell_type": "code",
   "execution_count": 25,
   "metadata": {},
   "outputs": [
    {
     "name": "stdout",
     "output_type": "stream",
     "text": [
      "Confusion matrix, without normalization\n",
      "[[ 47   0   8   0]\n",
      " [  0 114   4  11]\n",
      " [  2   0  54   4]\n",
      " [  0   2   0 328]]\n",
      "Normalized confusion matrix\n",
      "[[0.85 0.   0.15 0.  ]\n",
      " [0.   0.88 0.03 0.09]\n",
      " [0.03 0.   0.9  0.07]\n",
      " [0.   0.01 0.   0.99]]\n"
     ]
    },
    {
     "data": {
      "image/png": "[encoded data removed]",
      "text/plain": [
       "<Figure size 720x720 with 2 Axes>"
      ]
     },
     "metadata": {
      "needs_background": "light"
     },
     "output_type": "display_data"
    },
    {
     "data": {
      "image/png": "[encoded data removed]",
      "text/plain": [
       "<Figure size 720x720 with 2 Axes>"
      ]
     },
     "metadata": {
      "needs_background": "light"
     },
     "output_type": "display_data"
    }
   ],
   "source": [
    "# Compute confusion matrix\n",
    "cnf_matrix = confusion_matrix(y_test, test_preds)\n",
    "np.set_printoptions(precision=2)\n",
    "\n",
    "# Plot non-normalized confusion matrix\n",
    "plt.figure(figsize=(10,10))\n",
    "plot_confusion_matrix(cnf_matrix, classes=np.unique(y_test),\n",
    "                      title='Confusion matrix, without normalization')\n",
    "\n",
    "# Plot normalized confusion matrix\n",
    "plt.figure(figsize=(10,10))\n",
    "plot_confusion_matrix(cnf_matrix, classes=np.unique(y_test), normalize=True,\n",
    "                      title='Normalized confusion matrix')\n",
    "\n",
    "plt.show()"
   ]
  },
  {
   "cell_type": "code",
   "execution_count": null,
   "metadata": {},
   "outputs": [],
   "source": [
    "from xgboost.sklearn import XGBClassifier"
   ]
  },
  {
   "cell_type": "code",
   "execution_count": null,
   "metadata": {},
   "outputs": [],
   "source": [
    "xgbc = XGBClassifier(n_estimators=50)\n",
    "xgbc.fit(X_train, y_train)"
   ]
  },
  {
   "cell_type": "code",
   "execution_count": null,
   "metadata": {},
   "outputs": [],
   "source": [
    "xgbc_test_preds = xgbc.predict(X_test)"
   ]
  },
  {
   "cell_type": "code",
   "execution_count": null,
   "metadata": {},
   "outputs": [],
   "source": [
    "# Compute confusion matrix\n",
    "cnf_matrix = confusion_matrix(y_test, xgbc_test_preds)\n",
    "np.set_printoptions(precision=2)\n",
    "\n",
    "# Plot non-normalized confusion matrix\n",
    "plt.figure(figsize=(10,10))\n",
    "plot_confusion_matrix(cnf_matrix, classes=np.unique(y_test),\n",
    "                      title='Confusion matrix, without normalization')\n",
    "\n",
    "# Plot normalized confusion matrix\n",
    "plt.figure(figsize=(10,10))\n",
    "plot_confusion_matrix(cnf_matrix, classes=np.unique(y_test), normalize=True,\n",
    "                      title='Normalized confusion matrix')\n",
    "\n",
    "plt.show()"
   ]
  },
  {
   "cell_type": "code",
   "execution_count": null,
   "metadata": {},
   "outputs": [],
   "source": []
  }
 ],
 "metadata": {
  "kernelspec": {
   "display_name": "Python 3",
   "language": "python",
   "name": "python3"
  },
  "language_info": {
   "codemirror_mode": {
    "name": "ipython",
    "version": 3
   },
   "file_extension": ".py",
   "mimetype": "text/x-python",
   "name": "python",
   "nbconvert_exporter": "python",
   "pygments_lexer": "ipython3",
   "version": "3.5.2"
  }
 },
 "nbformat": 4,
 "nbformat_minor": 2
}
